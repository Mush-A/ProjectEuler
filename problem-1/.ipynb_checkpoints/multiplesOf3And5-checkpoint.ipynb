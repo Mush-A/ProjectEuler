{
 "cells": [
  {
   "metadata": {},
   "cell_type": "markdown",
   "source": [
    "If we list all the natural numbers below 10 that are multiples of 3 or 5, we get 3, 5, 6 and 9.\n",
    "The sum of these multiples is 23.\n",
    "\n",
    "Find the sum of all the multiples of 3 or 5 below the provided parameter value number."
   ],
   "id": "754208a1140d96c1"
  },
  {
   "metadata": {},
   "cell_type": "markdown",
   "source": "The O(n) Solution",
   "id": "53e38ed217b98f6d"
  },
  {
   "metadata": {
    "ExecuteTime": {
     "end_time": "2024-08-08T03:21:05.434596Z",
     "start_time": "2024-08-08T03:21:05.424439Z"
    }
   },
   "cell_type": "code",
   "source": [
    "def sumOfMultiplesOf3and5(n):\n",
    "    total = 0\n",
    "\n",
    "    for i in range(1, n):\n",
    "        if i % 3 == 0 or i % 5 == 0:\n",
    "            total += i\n",
    "\n",
    "    return total\n",
    "\n",
    "\n",
    "result = sumOfMultiplesOf3and5(10)\n",
    "\n",
    "print(result)"
   ],
   "id": "af520e178b46cee4",
   "outputs": [
    {
     "name": "stdout",
     "output_type": "stream",
     "text": [
      "23\n"
     ]
    }
   ],
   "execution_count": 1
  },
  {
   "metadata": {},
   "cell_type": "markdown",
   "source": [
    "However, there is a O(1) solution to this problem. It uses the simple arithmetic progression formular which we will derive.\n",
    "\n",
    "Assume the sequence: ${3, 6, 9}$ what is the common different between the terms of this sequence? It is $3$. Clearly, this are multiples of 3.\n"
   ],
   "id": "e3d8b7c5d4632ab9"
  }
 ],
 "metadata": {
  "kernelspec": {
   "display_name": "Python 3",
   "language": "python",
   "name": "python3"
  },
  "language_info": {
   "codemirror_mode": {
    "name": "ipython",
    "version": 2
   },
   "file_extension": ".py",
   "mimetype": "text/x-python",
   "name": "python",
   "nbconvert_exporter": "python",
   "pygments_lexer": "ipython2",
   "version": "2.7.6"
  }
 },
 "nbformat": 4,
 "nbformat_minor": 5
}
