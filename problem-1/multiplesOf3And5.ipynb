{
 "cells": [
  {
   "cell_type": "markdown",
   "id": "754208a1140d96c1",
   "metadata": {},
   "source": [
    "# Problem\n",
    "If we list all the natural numbers below 10 that are multiples of 3 or 5, we get 3, 5, 6 and 9.\n",
    "The sum of these multiples is 23.\n",
    "\n",
    "Find the sum of all the multiples of 3 or 5 below the provided parameter value number, n."
   ]
  },
  {
   "cell_type": "markdown",
   "id": "53e38ed217b98f6d",
   "metadata": {},
   "source": "# The $O(n)$ Solution"
  },
  {
   "cell_type": "code",
   "id": "af520e178b46cee4",
   "metadata": {
    "ExecuteTime": {
     "end_time": "2024-08-08T05:43:38.930833Z",
     "start_time": "2024-08-08T05:43:38.927102Z"
    }
   },
   "source": [
    "def sumOfMultiplesOf3and5(n):\n",
    "    total = 0\n",
    "\n",
    "    for i in range(1, n):\n",
    "        if i % 3 == 0 or i % 5 == 0:\n",
    "            total += i\n",
    "\n",
    "    return total\n",
    "\n",
    "\n",
    "result = sumOfMultiplesOf3and5(10)\n",
    "\n",
    "print(result)"
   ],
   "outputs": [
    {
     "name": "stdout",
     "output_type": "stream",
     "text": [
      "23\n"
     ]
    }
   ],
   "execution_count": 46
  },
  {
   "metadata": {},
   "cell_type": "markdown",
   "source": "However, there is a $O(1)$ solution to this problem. It uses the simple arithmetic progression formular which we will derive.",
   "id": "598ee77e2293c8ff"
  },
  {
   "cell_type": "markdown",
   "id": "e3d8b7c5d4632ab9",
   "metadata": {},
   "source": [
    "\n",
    "# The $O(1)$ solution\n",
    "\n",
    "## Finding the formula that spits the sum of the multiples of $k$ under $n$\n",
    "\n",
    "Assume the sequence: ${3, 6, 9, ...}$ what is the common different between the terms of this sequence? It is $3$. Clearly, these are multiples of 3.\n",
    "\n",
    "This can be written down as $k,2⋅k,3⋅k,…,p⋅k$ where $k$ is the common difference and $p$ is the largest integer such that $p⋅k<n$\n",
    "\n",
    "Their sum S, can be written down as $S=k⋅(1+2+3+⋯+p)$ and notice that $(1+2+3+⋯+p)$  is essentially the sum of the first $p$ natural numbers.\n",
    "\n",
    "It has been shown that the sum of the first $p$ natural numbers is $\\frac{p(p+1)}{2}$. But let us derive that too:\n",
    "\n",
    "The sum of the first natural $np$ natural numbers can be written as:\n",
    "$$S_{p} = 1+2+3+⋯+p$$\n",
    "\n",
    "It can also be written, in the reverse order, as:\n",
    "$$S_{p} = p+(p-1)+(p-2)+⋯+1$$\n",
    "\n",
    "We can add both sides of the equation term by term and get the following: <br/><br/>\n",
    "$\\;\\;\\;\\;\\;\\;S_{p} = \\;1\\;\\;\\;\\;\\;\\;\\;\\;\\;\\;\\;\\;+2\\;\\;\\;\\;\\;\\;\\;\\;\\;\\;\\;\\;\\;+3\\;\\;\\;\\;\\;\\;\\;\\;\\;\\;\\;\\;\\;+⋯\\;\\;\\;\\;+p$ <br />\n",
    "$\\;\\;\\;\\;\\;\\;S_{p} = \\;p\\;\\;\\;\\;\\;\\;\\;\\;\\;\\;\\;\\;+(p-1)\\;\\;\\;\\;+(p-2)\\;\\;\\;\\;+⋯\\;\\;\\;\\;+1$ <br />\n",
    "$+--------------------------$ <br />\n",
    "$\\;\\;\\;\\;2S_{p} = (p+1)\\;\\;\\;\\;+(p+1)\\;\\;\\;\\;+(p+1)\\;\\;\\;\\;+⋯\\;\\;\\;\\;+(p+1)$ <br />\n",
    "\n",
    "Since $(p+1)$ appears $p$ times on the $RHS$ of the equation, we have: \n",
    "$$2S_{p} = p(p+1)$$\n",
    "\n",
    "Therefore: \n",
    "$$S_{p} = \\frac{p(p+1)}{2}$$\n",
    "\n",
    "So now, we can write the equation that we came up with earlier, $S=k⋅(1+2+3+⋯+p)$, as:\n",
    "$$S=k⋅\\frac{p(p+1)}{2}$$\n",
    "\n",
    "Now we need to find $p$. Remember, $p$ is the largest integer such that $p⋅k<n$. The question states \"below\". We can do this by using the integer part of the following (or equivalently we can say we are taking the \"floor\" of the following which is denoted by $⌊x⌋$):\n",
    "$$p = ⌊\\frac{n-1}{k}⌋$$"
   ]
  },
  {
   "metadata": {},
   "cell_type": "markdown",
   "source": "So in python, the sum of multiples under n by be found as follows:",
   "id": "68cddf63643ad0b2"
  },
  {
   "metadata": {
    "ExecuteTime": {
     "end_time": "2024-08-08T05:43:38.957016Z",
     "start_time": "2024-08-08T05:43:38.953605Z"
    }
   },
   "cell_type": "code",
   "source": [
    "def sum_of_multiples_of_k_under_n(k, n):\n",
    "    p = (n - 1) // k # // is floor division in python\n",
    "    s = k * p * (p + 1) / 2\n",
    "    return s\n",
    "    \n",
    "ans = sum_of_multiples_of_k_under_n(3, 10)\n",
    "print(ans)"
   ],
   "id": "da52dfe2afe27c0c",
   "outputs": [
    {
     "name": "stdout",
     "output_type": "stream",
     "text": [
      "18.0\n"
     ]
    }
   ],
   "execution_count": 47
  },
  {
   "metadata": {},
   "cell_type": "markdown",
   "source": [
    "## What about the numbers that are multiples of both 3 and 5?\n",
    "\n",
    "Notice that we <i>cannot</i> simply use sum_of_multiples_of_k_under_n of 3 and 5 and add them together to <i>always</i> get the correct answer:"
   ],
   "id": "c065d4f2572c483e"
  },
  {
   "metadata": {
    "ExecuteTime": {
     "end_time": "2024-08-08T05:43:38.969763Z",
     "start_time": "2024-08-08T05:43:38.966863Z"
    }
   },
   "cell_type": "code",
   "source": [
    "# List of multiples of 3 under 31\n",
    "list_of_multiples_of_3 = [x for x in range(1, 31) if x % 3 == 0]\n",
    "print(list_of_multiples_of_3)"
   ],
   "id": "fab0c9d1596b1b1f",
   "outputs": [
    {
     "name": "stdout",
     "output_type": "stream",
     "text": [
      "[3, 6, 9, 12, 15, 18, 21, 24, 27, 30]\n"
     ]
    }
   ],
   "execution_count": 48
  },
  {
   "metadata": {
    "ExecuteTime": {
     "end_time": "2024-08-08T05:43:38.974067Z",
     "start_time": "2024-08-08T05:43:38.971387Z"
    }
   },
   "cell_type": "code",
   "source": [
    "# List of multiples of 5 under 31\n",
    "list_of_multiples_of_5 = [x for x in range(1, 31) if x % 5 == 0]\n",
    "print(list_of_multiples_of_5)"
   ],
   "id": "5a53197833cb57ca",
   "outputs": [
    {
     "name": "stdout",
     "output_type": "stream",
     "text": [
      "[5, 10, 15, 20, 25, 30]\n"
     ]
    }
   ],
   "execution_count": 49
  },
  {
   "metadata": {},
   "cell_type": "markdown",
   "source": [
    "You can probably see that $15$ and $30$ repeats in the case where we try to obtain the sum under 31. Simply adding the two sums of the multiples of 3 and 5 together would result in an answer that has excess value of $15 + 30$. \n",
    "\n",
    "Notice, $15$ is the Lowest Common Multiple $(LCM)$ of $3$ and $5$. Multiples of $15$ would be subsequent common multiples between $3$ and $5$, such as $30$ in this example.\n",
    "\n",
    "The simple solution to this is to exclude the additional $15 + 30$, and we do this by finding the sum of multiples of 15 under 31. Because:"
   ],
   "id": "8bd599e7ca578ac7"
  },
  {
   "metadata": {
    "ExecuteTime": {
     "end_time": "2024-08-08T05:43:38.994806Z",
     "start_time": "2024-08-08T05:43:38.991387Z"
    }
   },
   "cell_type": "code",
   "source": [
    "# List of multiples of 15 under 31\n",
    "list_of_multiples_of_15 = [x for x in range(1, 31) if x % 15 == 0]\n",
    "print(list_of_multiples_of_15)"
   ],
   "id": "e7dc76fd9e9ba08",
   "outputs": [
    {
     "name": "stdout",
     "output_type": "stream",
     "text": [
      "[15, 30]\n"
     ]
    }
   ],
   "execution_count": 50
  },
  {
   "metadata": {},
   "cell_type": "markdown",
   "source": [
    "Therefore, the solution simple becomes: <br /><br />\n",
    "$S_{ans}$ = sum of multiples of 3 or 5 under 31 <br />\n",
    "$S_{3}$ = sum of multiples of 3 under 31<br />\n",
    "$S_{5}$ = sum of multiples of 5 under 31<br />\n",
    "$S_{15}$ = sum of multiples of 15 under 31<br />\n",
    "\n",
    "Answer:\n",
    "\n",
    "$$S_{ans} = S_{3} + S_{5} - S_{15}$$\n",
    "\n",
    "and in code:"
   ],
   "id": "57d9b193571843fc"
  },
  {
   "metadata": {
    "ExecuteTime": {
     "end_time": "2024-08-08T05:43:39.016503Z",
     "start_time": "2024-08-08T05:43:39.011998Z"
    }
   },
   "cell_type": "code",
   "source": [
    "def solution(n):\n",
    "    s_3 = sum_of_multiples_of_k_under_n(3, n)\n",
    "    s_5 = sum_of_multiples_of_k_under_n(5, n)\n",
    "    s_15 = sum_of_multiples_of_k_under_n(15, n)\n",
    "    \n",
    "    final_answer = s_3 + s_5 - s_15\n",
    "    \n",
    "    return final_answer\n",
    "    \n",
    "answer = solution(10)\n",
    "print(answer)"
   ],
   "id": "25ee0105ddd9877c",
   "outputs": [
    {
     "name": "stdout",
     "output_type": "stream",
     "text": [
      "23.0\n"
     ]
    }
   ],
   "execution_count": 51
  },
  {
   "metadata": {},
   "cell_type": "markdown",
   "source": "For smaller numbers the $O(n)$ and $O(1)$ have negligible differences. However let's try and compare execution times for very large numbers:",
   "id": "ab797ac67a00f8eb"
  },
  {
   "metadata": {
    "ExecuteTime": {
     "end_time": "2024-08-08T05:43:39.132313Z",
     "start_time": "2024-08-08T05:43:39.025127Z"
    }
   },
   "cell_type": "code",
   "source": [
    "ans_1 = sumOfMultiplesOf3and5(1000000)\n",
    "print(ans_1)"
   ],
   "id": "f0ef747551a7b11e",
   "outputs": [
    {
     "name": "stdout",
     "output_type": "stream",
     "text": [
      "233333166668\n"
     ]
    }
   ],
   "execution_count": 52
  },
  {
   "metadata": {
    "ExecuteTime": {
     "end_time": "2024-08-08T05:43:39.136919Z",
     "start_time": "2024-08-08T05:43:39.134368Z"
    }
   },
   "cell_type": "code",
   "source": [
    "ans_2 = solution(1000000)\n",
    "print(ans_2)"
   ],
   "id": "2226aee39ead360f",
   "outputs": [
    {
     "name": "stdout",
     "output_type": "stream",
     "text": [
      "233333166668.0\n"
     ]
    }
   ],
   "execution_count": 53
  }
 ],
 "metadata": {
  "kernelspec": {
   "display_name": "Python 3 (ipykernel)",
   "language": "python",
   "name": "python3"
  },
  "language_info": {
   "codemirror_mode": {
    "name": "ipython",
    "version": 3
   },
   "file_extension": ".py",
   "mimetype": "text/x-python",
   "name": "python",
   "nbconvert_exporter": "python",
   "pygments_lexer": "ipython3",
   "version": "3.11.9"
  }
 },
 "nbformat": 4,
 "nbformat_minor": 5
}
